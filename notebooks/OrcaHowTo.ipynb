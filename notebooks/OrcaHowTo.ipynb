{
 "cells": [
  {
   "cell_type": "code",
   "execution_count": null,
   "id": "ceaf7afd",
   "metadata": {},
   "outputs": [],
   "source": [
    "library(tidyverse)\n",
    "library(ggplot2)\n",
    "library(hrbrthemes)\n",
    "library(ggpubr)\n",
    "library(patchwork)"
   ]
  },
  {
   "cell_type": "code",
   "execution_count": null,
   "id": "5ef541d4",
   "metadata": {},
   "outputs": [],
   "source": [
    "insculationScore <- function(mat, name) {\n",
    "    num = dim(mat)[1]\n",
    "    w = 5\n",
    "    scores = c()\n",
    "    for (i in (w+1):(num-w)) {\n",
    "      score = sum(mat[(i-w):i,i:(i+w)])\n",
    "        scores = c(scores, score)\n",
    "    }\n",
    "    data = tibble(pos = seq_along(scores) + w, !!name:=scores)\n",
    "    return(data)\n",
    "}"
   ]
  },
  {
   "cell_type": "markdown",
   "id": "b9696101",
   "metadata": {},
   "source": [
    "### Orca predicted observed/expected"
   ]
  },
  {
   "cell_type": "code",
   "execution_count": null,
   "id": "99f1d0c3",
   "metadata": {},
   "outputs": [],
   "source": [
    "matrix_data = read.table(\"../bos_taurus/wildtype/orca_predictions_16Mb.txt\", sep = \"\\t\")\n",
    "mat = as.matrix(matrix_data)\n",
    "colnames(mat) <- NULL"
   ]
  },
  {
   "cell_type": "code",
   "execution_count": null,
   "id": "d671ac9f",
   "metadata": {},
   "outputs": [],
   "source": [
    "wildtype = insculationScore(mat, \"wildtype\")"
   ]
  },
  {
   "cell_type": "code",
   "execution_count": null,
   "id": "9323de51",
   "metadata": {},
   "outputs": [],
   "source": [
    "vmin=-1\n",
    "plotmat = mat\n",
    "plotmat[plotmat<vmin] = vmin\n",
    "# Make plots wider \n",
    "options(repr.plot.width=11, repr.plot.height=12)\n",
    "p1 = plotmat %>% as_tibble() %>%\n",
    "  rowid_to_column(var=\"X\") %>%\n",
    "  gather(key=\"Y\", value=\"Z\", -1) %>%\n",
    "  # Change Y to numeric\n",
    "  mutate(Y=as.numeric(gsub(\"V\",\"\",Y))) %>%\n",
    " # Viz\n",
    "  ggplot(aes(X, Y, fill= Z)) + \n",
    "    geom_tile() +\n",
    "    #scale_x_continuous(expand = c(0.5, 0)) +\n",
    "    scale_fill_distiller(palette = \"YlOrBr\", direction=1) +\n",
    "    scale_y_reverse() +\n",
    "    coord_cartesian(expand = FALSE) +\n",
    "    #theme_ipsum() +\n",
    "    theme(#legend.position=\"none\",\n",
    "          axis.title.x=element_blank(),\n",
    "          axis.text.x=element_blank(),\n",
    "          axis.ticks.x=element_blank(),\n",
    "          plot.margin = margin(0,0,0,0, 'cm'))\n",
    "#legend.position=\"none\",\n",
    "p2 = wildtype %>% ggplot(aes(x=pos)) +\n",
    "         geom_line(aes(y = wildtype, colour = \"wildtype\")) +\n",
    "         scale_x_continuous(expand = c(0, 0)) +\n",
    "         theme_minimal()\n",
    "ggarrange(p1, p2, heights = c(3, 0.5), nrow = 2, align = \"v\")"
   ]
  },
  {
   "cell_type": "code",
   "execution_count": null,
   "id": "dff92e21",
   "metadata": {},
   "outputs": [],
   "source": []
  }
 ],
 "metadata": {
  "kernelspec": {
   "display_name": "R",
   "language": "R",
   "name": "ir"
  },
  "language_info": {
   "codemirror_mode": "r",
   "file_extension": ".r",
   "mimetype": "text/x-r-source",
   "name": "R",
   "pygments_lexer": "r",
   "version": "4.3.3"
  }
 },
 "nbformat": 4,
 "nbformat_minor": 5
}
